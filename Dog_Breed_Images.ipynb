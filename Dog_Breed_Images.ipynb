{
  "nbformat": 4,
  "nbformat_minor": 0,
  "metadata": {
    "colab": {
      "provenance": [],
      "gpuType": "T4"
    },
    "kernelspec": {
      "name": "python3",
      "display_name": "Python 3"
    },
    "language_info": {
      "name": "python"
    },
    "accelerator": "GPU",
    "widgets": {
      "application/vnd.jupyter.widget-state+json": {
        "a932ba739b5745e2a4b2e5e871d114ab": {
          "model_module": "@jupyter-widgets/controls",
          "model_name": "HBoxModel",
          "model_module_version": "1.5.0",
          "state": {
            "_dom_classes": [],
            "_model_module": "@jupyter-widgets/controls",
            "_model_module_version": "1.5.0",
            "_model_name": "HBoxModel",
            "_view_count": null,
            "_view_module": "@jupyter-widgets/controls",
            "_view_module_version": "1.5.0",
            "_view_name": "HBoxView",
            "box_style": "",
            "children": [
              "IPY_MODEL_0bafc1d8ebb84980ae084df8f191ccc5",
              "IPY_MODEL_30e190d8018c4d3d860cc901499c6680",
              "IPY_MODEL_c6f761767b404b70b97125f92217f902"
            ],
            "layout": "IPY_MODEL_baaa0893359b42528c47d222d8efabb1"
          }
        },
        "0bafc1d8ebb84980ae084df8f191ccc5": {
          "model_module": "@jupyter-widgets/controls",
          "model_name": "HTMLModel",
          "model_module_version": "1.5.0",
          "state": {
            "_dom_classes": [],
            "_model_module": "@jupyter-widgets/controls",
            "_model_module_version": "1.5.0",
            "_model_name": "HTMLModel",
            "_view_count": null,
            "_view_module": "@jupyter-widgets/controls",
            "_view_module_version": "1.5.0",
            "_view_name": "HTMLView",
            "description": "",
            "description_tooltip": null,
            "layout": "IPY_MODEL_5df502a2a71a40dd88b0fc89f2014db3",
            "placeholder": "​",
            "style": "IPY_MODEL_3f1c36926a50440c817e6d183ec92260",
            "value": "100%"
          }
        },
        "30e190d8018c4d3d860cc901499c6680": {
          "model_module": "@jupyter-widgets/controls",
          "model_name": "FloatProgressModel",
          "model_module_version": "1.5.0",
          "state": {
            "_dom_classes": [],
            "_model_module": "@jupyter-widgets/controls",
            "_model_module_version": "1.5.0",
            "_model_name": "FloatProgressModel",
            "_view_count": null,
            "_view_module": "@jupyter-widgets/controls",
            "_view_module_version": "1.5.0",
            "_view_name": "ProgressView",
            "bar_style": "success",
            "description": "",
            "description_tooltip": null,
            "layout": "IPY_MODEL_cc26ceeba66b4189b1c63daf0b003111",
            "max": 10,
            "min": 0,
            "orientation": "horizontal",
            "style": "IPY_MODEL_db021d31870647089038aed540207905",
            "value": 10
          }
        },
        "c6f761767b404b70b97125f92217f902": {
          "model_module": "@jupyter-widgets/controls",
          "model_name": "HTMLModel",
          "model_module_version": "1.5.0",
          "state": {
            "_dom_classes": [],
            "_model_module": "@jupyter-widgets/controls",
            "_model_module_version": "1.5.0",
            "_model_name": "HTMLModel",
            "_view_count": null,
            "_view_module": "@jupyter-widgets/controls",
            "_view_module_version": "1.5.0",
            "_view_name": "HTMLView",
            "description": "",
            "description_tooltip": null,
            "layout": "IPY_MODEL_d0442ed7fbd74b9ab318e1940545e8a7",
            "placeholder": "​",
            "style": "IPY_MODEL_5963836199714c37b7aeeac7204b1bb7",
            "value": " 10/10 [01:55&lt;00:00, 11.36s/it]"
          }
        },
        "baaa0893359b42528c47d222d8efabb1": {
          "model_module": "@jupyter-widgets/base",
          "model_name": "LayoutModel",
          "model_module_version": "1.2.0",
          "state": {
            "_model_module": "@jupyter-widgets/base",
            "_model_module_version": "1.2.0",
            "_model_name": "LayoutModel",
            "_view_count": null,
            "_view_module": "@jupyter-widgets/base",
            "_view_module_version": "1.2.0",
            "_view_name": "LayoutView",
            "align_content": null,
            "align_items": null,
            "align_self": null,
            "border": null,
            "bottom": null,
            "display": null,
            "flex": null,
            "flex_flow": null,
            "grid_area": null,
            "grid_auto_columns": null,
            "grid_auto_flow": null,
            "grid_auto_rows": null,
            "grid_column": null,
            "grid_gap": null,
            "grid_row": null,
            "grid_template_areas": null,
            "grid_template_columns": null,
            "grid_template_rows": null,
            "height": null,
            "justify_content": null,
            "justify_items": null,
            "left": null,
            "margin": null,
            "max_height": null,
            "max_width": null,
            "min_height": null,
            "min_width": null,
            "object_fit": null,
            "object_position": null,
            "order": null,
            "overflow": null,
            "overflow_x": null,
            "overflow_y": null,
            "padding": null,
            "right": null,
            "top": null,
            "visibility": null,
            "width": null
          }
        },
        "5df502a2a71a40dd88b0fc89f2014db3": {
          "model_module": "@jupyter-widgets/base",
          "model_name": "LayoutModel",
          "model_module_version": "1.2.0",
          "state": {
            "_model_module": "@jupyter-widgets/base",
            "_model_module_version": "1.2.0",
            "_model_name": "LayoutModel",
            "_view_count": null,
            "_view_module": "@jupyter-widgets/base",
            "_view_module_version": "1.2.0",
            "_view_name": "LayoutView",
            "align_content": null,
            "align_items": null,
            "align_self": null,
            "border": null,
            "bottom": null,
            "display": null,
            "flex": null,
            "flex_flow": null,
            "grid_area": null,
            "grid_auto_columns": null,
            "grid_auto_flow": null,
            "grid_auto_rows": null,
            "grid_column": null,
            "grid_gap": null,
            "grid_row": null,
            "grid_template_areas": null,
            "grid_template_columns": null,
            "grid_template_rows": null,
            "height": null,
            "justify_content": null,
            "justify_items": null,
            "left": null,
            "margin": null,
            "max_height": null,
            "max_width": null,
            "min_height": null,
            "min_width": null,
            "object_fit": null,
            "object_position": null,
            "order": null,
            "overflow": null,
            "overflow_x": null,
            "overflow_y": null,
            "padding": null,
            "right": null,
            "top": null,
            "visibility": null,
            "width": null
          }
        },
        "3f1c36926a50440c817e6d183ec92260": {
          "model_module": "@jupyter-widgets/controls",
          "model_name": "DescriptionStyleModel",
          "model_module_version": "1.5.0",
          "state": {
            "_model_module": "@jupyter-widgets/controls",
            "_model_module_version": "1.5.0",
            "_model_name": "DescriptionStyleModel",
            "_view_count": null,
            "_view_module": "@jupyter-widgets/base",
            "_view_module_version": "1.2.0",
            "_view_name": "StyleView",
            "description_width": ""
          }
        },
        "cc26ceeba66b4189b1c63daf0b003111": {
          "model_module": "@jupyter-widgets/base",
          "model_name": "LayoutModel",
          "model_module_version": "1.2.0",
          "state": {
            "_model_module": "@jupyter-widgets/base",
            "_model_module_version": "1.2.0",
            "_model_name": "LayoutModel",
            "_view_count": null,
            "_view_module": "@jupyter-widgets/base",
            "_view_module_version": "1.2.0",
            "_view_name": "LayoutView",
            "align_content": null,
            "align_items": null,
            "align_self": null,
            "border": null,
            "bottom": null,
            "display": null,
            "flex": null,
            "flex_flow": null,
            "grid_area": null,
            "grid_auto_columns": null,
            "grid_auto_flow": null,
            "grid_auto_rows": null,
            "grid_column": null,
            "grid_gap": null,
            "grid_row": null,
            "grid_template_areas": null,
            "grid_template_columns": null,
            "grid_template_rows": null,
            "height": null,
            "justify_content": null,
            "justify_items": null,
            "left": null,
            "margin": null,
            "max_height": null,
            "max_width": null,
            "min_height": null,
            "min_width": null,
            "object_fit": null,
            "object_position": null,
            "order": null,
            "overflow": null,
            "overflow_x": null,
            "overflow_y": null,
            "padding": null,
            "right": null,
            "top": null,
            "visibility": null,
            "width": null
          }
        },
        "db021d31870647089038aed540207905": {
          "model_module": "@jupyter-widgets/controls",
          "model_name": "ProgressStyleModel",
          "model_module_version": "1.5.0",
          "state": {
            "_model_module": "@jupyter-widgets/controls",
            "_model_module_version": "1.5.0",
            "_model_name": "ProgressStyleModel",
            "_view_count": null,
            "_view_module": "@jupyter-widgets/base",
            "_view_module_version": "1.2.0",
            "_view_name": "StyleView",
            "bar_color": null,
            "description_width": ""
          }
        },
        "d0442ed7fbd74b9ab318e1940545e8a7": {
          "model_module": "@jupyter-widgets/base",
          "model_name": "LayoutModel",
          "model_module_version": "1.2.0",
          "state": {
            "_model_module": "@jupyter-widgets/base",
            "_model_module_version": "1.2.0",
            "_model_name": "LayoutModel",
            "_view_count": null,
            "_view_module": "@jupyter-widgets/base",
            "_view_module_version": "1.2.0",
            "_view_name": "LayoutView",
            "align_content": null,
            "align_items": null,
            "align_self": null,
            "border": null,
            "bottom": null,
            "display": null,
            "flex": null,
            "flex_flow": null,
            "grid_area": null,
            "grid_auto_columns": null,
            "grid_auto_flow": null,
            "grid_auto_rows": null,
            "grid_column": null,
            "grid_gap": null,
            "grid_row": null,
            "grid_template_areas": null,
            "grid_template_columns": null,
            "grid_template_rows": null,
            "height": null,
            "justify_content": null,
            "justify_items": null,
            "left": null,
            "margin": null,
            "max_height": null,
            "max_width": null,
            "min_height": null,
            "min_width": null,
            "object_fit": null,
            "object_position": null,
            "order": null,
            "overflow": null,
            "overflow_x": null,
            "overflow_y": null,
            "padding": null,
            "right": null,
            "top": null,
            "visibility": null,
            "width": null
          }
        },
        "5963836199714c37b7aeeac7204b1bb7": {
          "model_module": "@jupyter-widgets/controls",
          "model_name": "DescriptionStyleModel",
          "model_module_version": "1.5.0",
          "state": {
            "_model_module": "@jupyter-widgets/controls",
            "_model_module_version": "1.5.0",
            "_model_name": "DescriptionStyleModel",
            "_view_count": null,
            "_view_module": "@jupyter-widgets/base",
            "_view_module_version": "1.2.0",
            "_view_name": "StyleView",
            "description_width": ""
          }
        }
      }
    }
  },
  "cells": [
    {
      "cell_type": "code",
      "execution_count": 99,
      "metadata": {
        "id": "wmWa7EEWhGyH"
      },
      "outputs": [],
      "source": [
        "# Import PyTorch\n",
        "\n",
        "import torch\n",
        "from torch import nn\n",
        "\n",
        "# Import torchvision\n",
        "import torchvision\n",
        "from torchvision import datasets\n",
        "from torchvision import transforms\n",
        "from torchvision.transforms import ToTensor\n",
        "\n",
        "# Import matplotlib for visualization\n",
        "import matplotlib.pyplot as plt\n",
        "\n",
        "import numpy as np\n",
        "import pandas as pd"
      ]
    },
    {
      "cell_type": "code",
      "source": [
        "device = \"cuda\" if torch.cuda.is_available() else \"cpu\"\n",
        "\n",
        "device"
      ],
      "metadata": {
        "colab": {
          "base_uri": "https://localhost:8080/",
          "height": 35
        },
        "id": "1G6ZZaz_iG3g",
        "outputId": "53c665f5-9fa4-4a8b-a934-87644d5a4d6c"
      },
      "execution_count": 100,
      "outputs": [
        {
          "output_type": "execute_result",
          "data": {
            "text/plain": [
              "'cpu'"
            ],
            "application/vnd.google.colaboratory.intrinsic+json": {
              "type": "string"
            }
          },
          "metadata": {},
          "execution_count": 100
        }
      ]
    },
    {
      "cell_type": "markdown",
      "source": [
        "### 1. Get Data"
      ],
      "metadata": {
        "id": "aXgLDHBmi3Or"
      }
    },
    {
      "cell_type": "code",
      "source": [
        "import zipfile\n",
        "from pathlib import Path\n",
        "\n",
        "# Setup path to a data folder\n",
        "\n",
        "data_path = Path(\"drive/MyDrive/Data Projects/Dog Breed Image Dataset\")\n",
        "image_path = data_path / \"dog_breed_images\"\n",
        "\n",
        "with zipfile.ZipFile(data_path / \"dogbreedimage.zip\", \"r\") as zip_ref:\n",
        "  print(\"Unzipping Dog Breed Images...\")\n",
        "  zip_ref.extractall(image_path)"
      ],
      "metadata": {
        "colab": {
          "base_uri": "https://localhost:8080/"
        },
        "id": "pAgmCP_2i4eq",
        "outputId": "efd42741-5e09-4efe-a47a-ba10c72cec27"
      },
      "execution_count": 101,
      "outputs": [
        {
          "output_type": "stream",
          "name": "stdout",
          "text": [
            "Unzipping Dog Breed Images...\n"
          ]
        }
      ]
    },
    {
      "cell_type": "code",
      "source": [
        "import os\n",
        "\n",
        "def datapath(dir_path):\n",
        "  \"\"\" Walkks through dir_path returning its contents.\"\"\"\n",
        "  for dirpath, dirnames, filenames in os.walk(dir_path):\n",
        "    print(f\"There are {len(dirnames)} directories and {len(filenames)} images in '{dirpath}'.\")"
      ],
      "metadata": {
        "id": "3LQMj6Lhj78p"
      },
      "execution_count": 102,
      "outputs": []
    },
    {
      "cell_type": "code",
      "source": [
        "datapath(image_path)"
      ],
      "metadata": {
        "colab": {
          "base_uri": "https://localhost:8080/"
        },
        "id": "qlCQ5tXEko3J",
        "outputId": "306a0cf7-dcfb-49ec-e9b4-dacfbbd5b164"
      },
      "execution_count": 103,
      "outputs": [
        {
          "output_type": "stream",
          "name": "stdout",
          "text": [
            "There are 1 directories and 0 images in 'drive/MyDrive/Data Projects/Dog Breed Image Dataset/dog_breed_images'.\n",
            "There are 10 directories and 0 images in 'drive/MyDrive/Data Projects/Dog Breed Image Dataset/dog_breed_images/dataset'.\n",
            "There are 0 directories and 100 images in 'drive/MyDrive/Data Projects/Dog Breed Image Dataset/dog_breed_images/dataset/Beagle'.\n",
            "There are 0 directories and 100 images in 'drive/MyDrive/Data Projects/Dog Breed Image Dataset/dog_breed_images/dataset/Boxer'.\n",
            "There are 0 directories and 100 images in 'drive/MyDrive/Data Projects/Dog Breed Image Dataset/dog_breed_images/dataset/Bulldog'.\n",
            "There are 0 directories and 96 images in 'drive/MyDrive/Data Projects/Dog Breed Image Dataset/dog_breed_images/dataset/Dachshund'.\n",
            "There are 0 directories and 96 images in 'drive/MyDrive/Data Projects/Dog Breed Image Dataset/dog_breed_images/dataset/German_Shepherd'.\n",
            "There are 0 directories and 91 images in 'drive/MyDrive/Data Projects/Dog Breed Image Dataset/dog_breed_images/dataset/Golden_Retriever'.\n",
            "There are 0 directories and 95 images in 'drive/MyDrive/Data Projects/Dog Breed Image Dataset/dog_breed_images/dataset/Labrador_Retriever'.\n",
            "There are 0 directories and 100 images in 'drive/MyDrive/Data Projects/Dog Breed Image Dataset/dog_breed_images/dataset/Poodle'.\n",
            "There are 0 directories and 89 images in 'drive/MyDrive/Data Projects/Dog Breed Image Dataset/dog_breed_images/dataset/Rottweiler'.\n",
            "There are 0 directories and 100 images in 'drive/MyDrive/Data Projects/Dog Breed Image Dataset/dog_breed_images/dataset/Yorkshire_Terrier'.\n"
          ]
        }
      ]
    },
    {
      "cell_type": "code",
      "source": [
        "# import shutil\n",
        "# import random\n",
        "# from sklearn.model_selection import train_test_split\n",
        "\n",
        "# dataset_dir = 'drive/MyDrive/Data Projects/Dog Breed Image Dataset/dog_breed_images/dataset'\n",
        "# train_dir = 'drive/MyDrive/Data Projects/Dog Breed Image Dataset/dog_breed_images/train'\n",
        "# val_dir = 'drive/MyDrive/Data Projects/Dog Breed Image Dataset/dog_breed_images/val'\n",
        "# test_dir = 'drive/MyDrive/Data Projects/Dog Breed Image Dataset/dog_breed_images/test'\n",
        "# breeds = ['Golden_Retriever', 'German_Shepherd', 'Labrador_Retriever', 'Bulldog', 'Beagle',\n",
        "#           'Poodle', 'Rottweiler', 'Yorkshire_Terrier', 'Boxer', 'Dachshund']\n",
        "\n",
        "# for breed in breeds:\n",
        "#     os.makedirs(os.path.join(train_dir, breed), exist_ok=True)\n",
        "#     os.makedirs(os.path.join(val_dir, breed), exist_ok=True)\n",
        "#     os.makedirs(os.path.join(test_dir, breed), exist_ok=True)\n",
        "\n",
        "# train_ratio = 0.7\n",
        "# val_ratio = 0.2\n",
        "# test_ratio = 0.1\n",
        "\n",
        "# for breed in breeds:\n",
        "#     images = os.listdir(os.path.join(dataset_dir, breed))\n",
        "#     train_images, val_test_images = train_test_split(images, test_size=1-train_ratio, random_state=42)\n",
        "#     val_images, test_images = train_test_split(val_test_images, test_size=test_ratio/(test_ratio+val_ratio), random_state=42)\n",
        "\n",
        "#     for img in train_images:\n",
        "#         shutil.copy(os.path.join(dataset_dir, breed, img), os.path.join(train_dir, breed, img))\n",
        "#     for img in val_images:\n",
        "#         shutil.copy(os.path.join(dataset_dir, breed, img), os.path.join(val_dir, breed, img))\n",
        "#     for img in test_images:\n",
        "#         shutil.copy(os.path.join(dataset_dir, breed, img), os.path.join(test_dir, breed, img))"
      ],
      "metadata": {
        "id": "htSKu8E0p1pZ"
      },
      "execution_count": 104,
      "outputs": []
    },
    {
      "cell_type": "code",
      "source": [
        "import shutil\n",
        "import random\n",
        "from sklearn.model_selection import train_test_split\n",
        "\n",
        "dataset_dir = 'drive/MyDrive/Data Projects/Dog Breed Image Dataset/dog_breed_images/dataset'\n",
        "train_dir = 'drive/MyDrive/Data Projects/Dog Breed Image Dataset/dog_breed_images/train'\n",
        "test_dir = 'drive/MyDrive/Data Projects/Dog Breed Image Dataset/dog_breed_images/test'\n",
        "breeds = ['Golden_Retriever', 'German_Shepherd', 'Labrador_Retriever', 'Bulldog', 'Beagle',\n",
        "          'Poodle', 'Rottweiler', 'Yorkshire_Terrier', 'Boxer', 'Dachshund']\n",
        "\n",
        "for breed in breeds:\n",
        "    os.makedirs(os.path.join(train_dir, breed), exist_ok=True)\n",
        "    os.makedirs(os.path.join(test_dir, breed), exist_ok=True)\n",
        "\n",
        "for breed in breeds:\n",
        "    images = os.listdir(os.path.join(dataset_dir, breed))\n",
        "    train_images, test_images = train_test_split(images, test_size=0.3, random_state=42)\n",
        "\n",
        "    for img in train_images:\n",
        "        shutil.copy(os.path.join(dataset_dir, breed, img), os.path.join(train_dir, breed, img))\n",
        "    for img in test_images:\n",
        "        shutil.copy(os.path.join(dataset_dir, breed, img), os.path.join(test_dir, breed, img))"
      ],
      "metadata": {
        "id": "IfQgHFOtsoyA"
      },
      "execution_count": 105,
      "outputs": []
    },
    {
      "cell_type": "code",
      "source": [
        "train_dir, test_dir"
      ],
      "metadata": {
        "colab": {
          "base_uri": "https://localhost:8080/"
        },
        "id": "445XJQOjrmu_",
        "outputId": "254ffa46-7585-4c2e-f493-3b66ba5d2ddf"
      },
      "execution_count": 106,
      "outputs": [
        {
          "output_type": "execute_result",
          "data": {
            "text/plain": [
              "('drive/MyDrive/Data Projects/Dog Breed Image Dataset/dog_breed_images/train',\n",
              " 'drive/MyDrive/Data Projects/Dog Breed Image Dataset/dog_breed_images/test')"
            ]
          },
          "metadata": {},
          "execution_count": 106
        }
      ]
    },
    {
      "cell_type": "code",
      "source": [
        "train_dir = image_path / \"train\"\n",
        "test_dir = image_path / \"test\"\n",
        "\n",
        "train_dir, test_dir"
      ],
      "metadata": {
        "colab": {
          "base_uri": "https://localhost:8080/"
        },
        "id": "P_bPZaDEsJLC",
        "outputId": "102daf7a-3026-48d7-97d5-1b192f2e38a9"
      },
      "execution_count": 107,
      "outputs": [
        {
          "output_type": "execute_result",
          "data": {
            "text/plain": [
              "(PosixPath('drive/MyDrive/Data Projects/Dog Breed Image Dataset/dog_breed_images/train'),\n",
              " PosixPath('drive/MyDrive/Data Projects/Dog Breed Image Dataset/dog_breed_images/test'))"
            ]
          },
          "metadata": {},
          "execution_count": 107
        }
      ]
    },
    {
      "cell_type": "code",
      "source": [
        "import random\n",
        "from PIL import Image\n",
        "\n",
        "# Set see\n",
        "# random.seed(42)\n",
        "\n",
        "# 1. Get all image path\n",
        "\n",
        "image_path_list = list(image_path.glob(\"*/*/*.jpg\"))\n",
        "\n",
        "# 2. Pick a random image path\n",
        "\n",
        "random_image_path = random.choice(image_path_list)\n",
        "print(random_image_path)\n",
        "\n",
        "# 3. Get image class from the path name\n",
        "\n",
        "image_class = random_image_path.parent.stem\n",
        "\n",
        "print(image_class)\n",
        "\n",
        "# 4. Open Image\n",
        "img = Image.open(random_image_path)\n",
        "\n",
        "# 5. Print metadata\n",
        "\n",
        "print(f\"Random image path: {random_image_path}\")\n",
        "print(f\"Image class: {image_class}\")\n",
        "print(f\"Image height: {img.height}\")\n",
        "print(f\"Image width: {img.width}\")\n",
        "\n",
        "img"
      ],
      "metadata": {
        "colab": {
          "base_uri": "https://localhost:8080/",
          "height": 249
        },
        "id": "pHcQ4tUjmEVW",
        "outputId": "1831ec4d-227f-4d5e-99d5-32a5c499930d"
      },
      "execution_count": 108,
      "outputs": [
        {
          "output_type": "stream",
          "name": "stdout",
          "text": [
            "drive/MyDrive/Data Projects/Dog Breed Image Dataset/dog_breed_images/dataset/Dachshund/Dachshund_52.jpg\n",
            "Dachshund\n",
            "Random image path: drive/MyDrive/Data Projects/Dog Breed Image Dataset/dog_breed_images/dataset/Dachshund/Dachshund_52.jpg\n",
            "Image class: Dachshund\n",
            "Image height: 108\n",
            "Image width: 162\n"
          ]
        },
        {
          "output_type": "execute_result",
          "data": {
            "text/plain": [
              "<PIL.JpegImagePlugin.JpegImageFile image mode=RGB size=162x108>"
            ],
            "image/png": "[encoded data removed]"
          },
          "metadata": {},
          "execution_count": 108
        }
      ]
    },
    {
      "cell_type": "code",
      "source": [
        "# Try to visualise and image with matplotlib...\n",
        "\n",
        "import numpy as np\n",
        "import matplotlib.pyplot as plt\n",
        "\n",
        "# Turn the image into an array\n",
        "img_as_array = np.asarray(img)\n",
        "\n",
        "# Plot the image with matplotlib\n",
        "plt.figure(figsize=(10, 7))\n",
        "plt.imshow(img_as_array)\n",
        "plt.title(f\"Image class: {image_class} | Image Shape: {img_as_array.shape} -> [height, width, color channel] (HWC)\")\n",
        "plt.axis(False);"
      ],
      "metadata": {
        "colab": {
          "base_uri": "https://localhost:8080/",
          "height": 575
        },
        "id": "-5LIuHGenwbu",
        "outputId": "0dc4b2f5-c8bf-4b8b-ea95-367d89acb0a0"
      },
      "execution_count": 109,
      "outputs": [
        {
          "output_type": "display_data",
          "data": {
            "text/plain": [
              "<Figure size 1000x700 with 1 Axes>"
            ],
            "image/png": "[encoded data removed]"
          },
          "metadata": {}
        }
      ]
    },
    {
      "cell_type": "markdown",
      "source": [
        "## 2. Transforming data"
      ],
      "metadata": {
        "id": "GCrf1EYywimP"
      }
    },
    {
      "cell_type": "code",
      "source": [
        "import torch\n",
        "from torch.utils.data import DataLoader\n",
        "from torchvision import datasets, transforms"
      ],
      "metadata": {
        "id": "zoUmHoxcoNNd"
      },
      "execution_count": 110,
      "outputs": []
    },
    {
      "cell_type": "code",
      "source": [
        "# Transform from image\n",
        "\n",
        "data_transform = transforms.Compose([\n",
        "    # Resize our images to 64 x 64\n",
        "    transforms.Resize(size=(64, 64)),\n",
        "    # Flip the images randomly on the horizontal\n",
        "    transforms.RandomHorizontalFlip(p=0.5),\n",
        "    # Turn the image into a torch.Tensor\n",
        "    transforms.ToTensor()\n",
        "])"
      ],
      "metadata": {
        "id": "Y3165En0yPmW"
      },
      "execution_count": 111,
      "outputs": []
    },
    {
      "cell_type": "code",
      "source": [
        "# data_transform(img).shape"
      ],
      "metadata": {
        "id": "OZXHSEKKzWJu"
      },
      "execution_count": 112,
      "outputs": []
    },
    {
      "cell_type": "code",
      "source": [
        "# Use ImageFolderto create dataset(s)\n",
        "\n",
        "train_data = datasets.ImageFolder(root=train_dir,\n",
        "                                  transform=data_transform, # a transform for the data\n",
        "                                  target_transform=None) # a transform for the label/target\n",
        "\n",
        "\n",
        "test_data = datasets.ImageFolder(root=test_dir,\n",
        "                                  transform=data_transform)\n",
        "\n",
        "train_data, test_data"
      ],
      "metadata": {
        "colab": {
          "base_uri": "https://localhost:8080/"
        },
        "id": "zkO51RCkzYWx",
        "outputId": "a5d646ad-3509-454e-a6c7-a5815503a730"
      },
      "execution_count": 113,
      "outputs": [
        {
          "output_type": "execute_result",
          "data": {
            "text/plain": [
              "(Dataset ImageFolder\n",
              "     Number of datapoints: 675\n",
              "     Root location: drive/MyDrive/Data Projects/Dog Breed Image Dataset/dog_breed_images/train\n",
              "     StandardTransform\n",
              " Transform: Compose(\n",
              "                Resize(size=(64, 64), interpolation=bilinear, max_size=None, antialias=True)\n",
              "                RandomHorizontalFlip(p=0.5)\n",
              "                ToTensor()\n",
              "            ),\n",
              " Dataset ImageFolder\n",
              "     Number of datapoints: 292\n",
              "     Root location: drive/MyDrive/Data Projects/Dog Breed Image Dataset/dog_breed_images/test\n",
              "     StandardTransform\n",
              " Transform: Compose(\n",
              "                Resize(size=(64, 64), interpolation=bilinear, max_size=None, antialias=True)\n",
              "                RandomHorizontalFlip(p=0.5)\n",
              "                ToTensor()\n",
              "            ))"
            ]
          },
          "metadata": {},
          "execution_count": 113
        }
      ]
    },
    {
      "cell_type": "code",
      "source": [
        "train_data.classes"
      ],
      "metadata": {
        "colab": {
          "base_uri": "https://localhost:8080/"
        },
        "id": "evB4O1TLz-ZI",
        "outputId": "da0a0bf3-3d40-4425-e199-28a0afb771ad"
      },
      "execution_count": 114,
      "outputs": [
        {
          "output_type": "execute_result",
          "data": {
            "text/plain": [
              "['Beagle',\n",
              " 'Boxer',\n",
              " 'Bulldog',\n",
              " 'Dachshund',\n",
              " 'German_Shepherd',\n",
              " 'Golden_Retriever',\n",
              " 'Labrador_Retriever',\n",
              " 'Poodle',\n",
              " 'Rottweiler',\n",
              " 'Yorkshire_Terrier']"
            ]
          },
          "metadata": {},
          "execution_count": 114
        }
      ]
    },
    {
      "cell_type": "code",
      "source": [
        "idx = train_data.class_to_idx\n",
        "\n",
        "idx"
      ],
      "metadata": {
        "colab": {
          "base_uri": "https://localhost:8080/"
        },
        "id": "X9ozT1mf0CLh",
        "outputId": "89829442-d47d-4932-bbe6-7271c57a7f1f"
      },
      "execution_count": 115,
      "outputs": [
        {
          "output_type": "execute_result",
          "data": {
            "text/plain": [
              "{'Beagle': 0,\n",
              " 'Boxer': 1,\n",
              " 'Bulldog': 2,\n",
              " 'Dachshund': 3,\n",
              " 'German_Shepherd': 4,\n",
              " 'Golden_Retriever': 5,\n",
              " 'Labrador_Retriever': 6,\n",
              " 'Poodle': 7,\n",
              " 'Rottweiler': 8,\n",
              " 'Yorkshire_Terrier': 9}"
            ]
          },
          "metadata": {},
          "execution_count": 115
        }
      ]
    },
    {
      "cell_type": "code",
      "source": [
        "len(train_data), len(test_data)"
      ],
      "metadata": {
        "colab": {
          "base_uri": "https://localhost:8080/"
        },
        "id": "hdoJTuL40SBr",
        "outputId": "c5f38a56-cd41-4050-9c4e-2e5732c55656"
      },
      "execution_count": 116,
      "outputs": [
        {
          "output_type": "execute_result",
          "data": {
            "text/plain": [
              "(675, 292)"
            ]
          },
          "metadata": {},
          "execution_count": 116
        }
      ]
    },
    {
      "cell_type": "code",
      "source": [
        "train_data.samples[0]"
      ],
      "metadata": {
        "colab": {
          "base_uri": "https://localhost:8080/"
        },
        "id": "1wKmNRqB0blp",
        "outputId": "02527832-85db-4e08-af8c-1672410bd1af"
      },
      "execution_count": 117,
      "outputs": [
        {
          "output_type": "execute_result",
          "data": {
            "text/plain": [
              "('drive/MyDrive/Data Projects/Dog Breed Image Dataset/dog_breed_images/train/Beagle/Beagle_10.jpg',\n",
              " 0)"
            ]
          },
          "metadata": {},
          "execution_count": 117
        }
      ]
    },
    {
      "cell_type": "code",
      "source": [
        "img, label = train_data[1][0], train_data[1][1]\n",
        "\n",
        "print(f\"Image tensor:\\n {img}\")\n",
        "print(f\"Image shape: {img.shape}\")\n",
        "print(f\"Image datatype: {img.dtype}\")\n",
        "print(f\"Image label: {label}\")\n",
        "print(f\"Label datatye: {type(label)}\")"
      ],
      "metadata": {
        "colab": {
          "base_uri": "https://localhost:8080/"
        },
        "id": "-zh4MwyU0ocT",
        "outputId": "8d6acf32-323e-4887-d4ca-ab0d1f3e41c8"
      },
      "execution_count": 118,
      "outputs": [
        {
          "output_type": "stream",
          "name": "stdout",
          "text": [
            "Image tensor:\n",
            " tensor([[[0.7333, 0.6157, 0.3647,  ..., 0.2980, 0.2549, 0.2549],\n",
            "         [0.7451, 0.6353, 0.3922,  ..., 0.2471, 0.2235, 0.2353],\n",
            "         [0.7647, 0.6588, 0.4235,  ..., 0.1961, 0.2078, 0.2275],\n",
            "         ...,\n",
            "         [0.0235, 0.0235, 0.0314,  ..., 0.6941, 0.6824, 0.6510],\n",
            "         [0.0314, 0.0314, 0.0314,  ..., 0.6902, 0.6784, 0.6471],\n",
            "         [0.0431, 0.0431, 0.0431,  ..., 0.6863, 0.6706, 0.6431]],\n",
            "\n",
            "        [[0.7020, 0.6000, 0.3725,  ..., 0.4078, 0.3686, 0.3569],\n",
            "         [0.7098, 0.6157, 0.4000,  ..., 0.3529, 0.3333, 0.3412],\n",
            "         [0.7176, 0.6314, 0.4275,  ..., 0.2941, 0.3137, 0.3373],\n",
            "         ...,\n",
            "         [0.0196, 0.0196, 0.0275,  ..., 0.6392, 0.6314, 0.6078],\n",
            "         [0.0275, 0.0275, 0.0275,  ..., 0.6353, 0.6235, 0.6039],\n",
            "         [0.0392, 0.0392, 0.0392,  ..., 0.6314, 0.6196, 0.6000]],\n",
            "\n",
            "        [[0.7765, 0.6078, 0.2980,  ..., 0.1725, 0.1176, 0.1294],\n",
            "         [0.7922, 0.6353, 0.3373,  ..., 0.1333, 0.0980, 0.1216],\n",
            "         [0.8078, 0.6706, 0.3843,  ..., 0.1059, 0.1059, 0.1294],\n",
            "         ...,\n",
            "         [0.0431, 0.0431, 0.0510,  ..., 0.6039, 0.5922, 0.5804],\n",
            "         [0.0510, 0.0510, 0.0510,  ..., 0.5922, 0.5843, 0.5725],\n",
            "         [0.0627, 0.0627, 0.0627,  ..., 0.5843, 0.5765, 0.5686]]])\n",
            "Image shape: torch.Size([3, 64, 64])\n",
            "Image datatype: torch.float32\n",
            "Image label: 0\n",
            "Label datatye: <class 'int'>\n"
          ]
        }
      ]
    },
    {
      "cell_type": "code",
      "source": [
        "train_data, test_data"
      ],
      "metadata": {
        "colab": {
          "base_uri": "https://localhost:8080/"
        },
        "id": "d0H4exVE01WH",
        "outputId": "bf721f0c-3499-4731-b8a4-8edb46cc217f"
      },
      "execution_count": 119,
      "outputs": [
        {
          "output_type": "execute_result",
          "data": {
            "text/plain": [
              "(Dataset ImageFolder\n",
              "     Number of datapoints: 675\n",
              "     Root location: drive/MyDrive/Data Projects/Dog Breed Image Dataset/dog_breed_images/train\n",
              "     StandardTransform\n",
              " Transform: Compose(\n",
              "                Resize(size=(64, 64), interpolation=bilinear, max_size=None, antialias=True)\n",
              "                RandomHorizontalFlip(p=0.5)\n",
              "                ToTensor()\n",
              "            ),\n",
              " Dataset ImageFolder\n",
              "     Number of datapoints: 292\n",
              "     Root location: drive/MyDrive/Data Projects/Dog Breed Image Dataset/dog_breed_images/test\n",
              "     StandardTransform\n",
              " Transform: Compose(\n",
              "                Resize(size=(64, 64), interpolation=bilinear, max_size=None, antialias=True)\n",
              "                RandomHorizontalFlip(p=0.5)\n",
              "                ToTensor()\n",
              "            ))"
            ]
          },
          "metadata": {},
          "execution_count": 119
        }
      ]
    },
    {
      "cell_type": "markdown",
      "source": [
        "### 3. Turn image into DataLoader"
      ],
      "metadata": {
        "id": "Ybc972eC_9c5"
      }
    },
    {
      "cell_type": "code",
      "source": [
        "# Turn train and test dataset into dataloader\n",
        "\n",
        "# from torch.utils.data import DataLoader\n",
        "\n",
        "BATCH_SIZE = 32\n",
        "\n",
        "train_dataloader = DataLoader(dataset=train_data,\n",
        "                              batch_size=BATCH_SIZE,\n",
        "                              num_workers=1,\n",
        "                              shuffle=True)\n",
        "\n",
        "test_dataloader = DataLoader(dataset = test_data,\n",
        "                             batch_size=BATCH_SIZE,\n",
        "                             num_workers=1,\n",
        "                             shuffle=False)\n",
        "\n",
        "train_dataloader, test_dataloader"
      ],
      "metadata": {
        "colab": {
          "base_uri": "https://localhost:8080/"
        },
        "id": "9kPLiCax1PhA",
        "outputId": "034a4c76-f809-4f97-ffaa-0b6f68b76ad7"
      },
      "execution_count": 120,
      "outputs": [
        {
          "output_type": "execute_result",
          "data": {
            "text/plain": [
              "(<torch.utils.data.dataloader.DataLoader at 0x7d6187140d90>,\n",
              " <torch.utils.data.dataloader.DataLoader at 0x7d6187140970>)"
            ]
          },
          "metadata": {},
          "execution_count": 120
        }
      ]
    },
    {
      "cell_type": "code",
      "source": [
        "len(train_dataloader), len(test_dataloader)"
      ],
      "metadata": {
        "colab": {
          "base_uri": "https://localhost:8080/"
        },
        "id": "Qy6m4h76BCDk",
        "outputId": "adb940e6-a0ef-4fb8-9b21-d84f089ed0b4"
      },
      "execution_count": 121,
      "outputs": [
        {
          "output_type": "execute_result",
          "data": {
            "text/plain": [
              "(22, 10)"
            ]
          },
          "metadata": {},
          "execution_count": 121
        }
      ]
    },
    {
      "cell_type": "code",
      "source": [
        "import os\n",
        "import pathlib\n",
        "import torch\n",
        "\n",
        "from PIL import Image\n",
        "from torch.utils.data import Dataset\n",
        "from torchvision import transforms\n",
        "from typing import Tuple, Dict, List"
      ],
      "metadata": {
        "id": "xR3bA_Q1EkYK"
      },
      "execution_count": 122,
      "outputs": []
    },
    {
      "cell_type": "code",
      "source": [
        "# 1. Take in a Dataset as well as a list of class names\n",
        "def display_random_images(dataset: torch.utils.data.dataset.Dataset,\n",
        "                          classes: List[str] = None,\n",
        "                          n: int = 10,\n",
        "                          display_shape: bool = True,\n",
        "                          seed: int = None):\n",
        "\n",
        "    # 2. Adjust display if n too high\n",
        "    if n > 10:\n",
        "        n = 10\n",
        "        display_shape = False\n",
        "        print(f\"For display purposes, n shouldn't be larger than 10, setting to 10 and removing shape display.\")\n",
        "\n",
        "    # 3. Set random seed\n",
        "    if seed:\n",
        "        random.seed(seed)\n",
        "\n",
        "    # 4. Get random sample indexes\n",
        "    random_samples_idx = random.sample(range(len(dataset)), k=n)\n",
        "\n",
        "    # 5. Setup plot\n",
        "    plt.figure(figsize=(16, 8))\n",
        "\n",
        "    # 6. Loop through samples and display random samples\n",
        "    for i, targ_sample in enumerate(random_samples_idx):\n",
        "        targ_image, targ_label = dataset[targ_sample][0], dataset[targ_sample][1]\n",
        "\n",
        "        # 7. Adjust image tensor shape for plotting: [color_channels, height, width] -> [color_channels, height, width]\n",
        "        targ_image_adjust = targ_image.permute(1, 2, 0)\n",
        "\n",
        "        # Plot adjusted samples\n",
        "        plt.subplot(1, n, i+1)\n",
        "        plt.imshow(targ_image_adjust)\n",
        "        plt.axis(\"off\")\n",
        "        if classes:\n",
        "            title = f\"class: {classes[targ_label]}\"\n",
        "            if display_shape:\n",
        "                title = title + f\"\\nshape: {targ_image_adjust.shape}\"\n",
        "        plt.title(title)"
      ],
      "metadata": {
        "id": "P8wziir5BMOa"
      },
      "execution_count": 123,
      "outputs": []
    },
    {
      "cell_type": "code",
      "source": [
        "class_names = train_data.classes\n",
        "\n",
        "display_random_images(dataset=train_data,\n",
        "                      classes=class_names,\n",
        "                      n=4,\n",
        "                      seed=None)"
      ],
      "metadata": {
        "colab": {
          "base_uri": "https://localhost:8080/",
          "height": 243
        },
        "id": "NmoU3jPKE2g1",
        "outputId": "f2c74842-eaba-405c-acf3-962e6f00f4c6"
      },
      "execution_count": 124,
      "outputs": [
        {
          "output_type": "display_data",
          "data": {
            "text/plain": [
              "<Figure size 1600x800 with 4 Axes>"
            ],
            "image/png": "[encoded data removed]"
          },
          "metadata": {}
        }
      ]
    },
    {
      "cell_type": "code",
      "source": [
        "class DogBreed(nn.Module):\n",
        "  def __init__(self, input_shape: int, hidden_units:int, output_shape:int):\n",
        "     super().__init__()\n",
        "     self.conv_block_1 = nn.Sequential(\n",
        "         nn.Conv2d(in_channels=input_shape,\n",
        "                   out_channels=hidden_units,\n",
        "                   kernel_size=3,\n",
        "                   stride=1,\n",
        "                   padding=1),\n",
        "         nn.ReLU(),\n",
        "         nn.Conv2d(in_channels=hidden_units,\n",
        "                   out_channels=hidden_units,\n",
        "                   kernel_size=3,\n",
        "                   stride=1,\n",
        "                   padding=1),\n",
        "         nn.ReLU(),\n",
        "         nn.MaxPool2d(kernel_size=2,\n",
        "                      stride=2)\n",
        "     )\n",
        "     self.conv_block_2 = nn.Sequential(\n",
        "         nn.Conv2d(in_channels=hidden_units,\n",
        "                   out_channels=hidden_units,\n",
        "                   kernel_size=3,\n",
        "                   stride=1,\n",
        "                   padding=1),\n",
        "         nn.ReLU(),\n",
        "         nn.Conv2d(in_channels=hidden_units,\n",
        "                   out_channels=hidden_units,\n",
        "                   kernel_size=3,\n",
        "                   stride=1,\n",
        "                   padding=1),\n",
        "         nn.ReLU(),\n",
        "         nn.MaxPool2d(kernel_size=2,\n",
        "                      stride=2)\n",
        "     )\n",
        "    #  self.conv_block_3 = nn.Sequential(\n",
        "    #      nn.Conv2d(in_channels=hidden_units,\n",
        "    #                out_channels=hidden_units,\n",
        "    #                kernel_size=3,\n",
        "    #                stride=1,\n",
        "    #                padding=1),\n",
        "    #      nn.ReLU(),\n",
        "    #      nn.Conv2d(in_channels=hidden_units,\n",
        "    #                out_channels=hidden_units,\n",
        "    #                kernel_size=3,\n",
        "    #                stride=1,\n",
        "    #                padding=1),\n",
        "    #      nn.ReLU(),\n",
        "    #      nn.MaxPool2d(kernel_size=2,\n",
        "    #                   stride=2)\n",
        "    #  )\n",
        "     self.classifier = nn.Sequential(\n",
        "         nn.Flatten(),\n",
        "         nn.Linear(in_features=hidden_units*16*16,\n",
        "                   out_features=output_shape)\n",
        "     )\n",
        "\n",
        "  def forward(self, x):\n",
        "    x = self.conv_block_1(x)\n",
        "    # print(x.shape)\n",
        "    x = self.conv_block_2(x)\n",
        "    # print(x.shape)\n",
        "    # x = self.conv_block_3(x)\n",
        "    # print(x.shape)\n",
        "    x = self.classifier(x)\n",
        "    return x"
      ],
      "metadata": {
        "id": "-SQqHskeF4TK"
      },
      "execution_count": 125,
      "outputs": []
    },
    {
      "cell_type": "code",
      "source": [
        "len(train_data.classes)"
      ],
      "metadata": {
        "colab": {
          "base_uri": "https://localhost:8080/"
        },
        "id": "C1KmH8LTVorS",
        "outputId": "7b60a3c0-19e9-422b-a383-50ea1acafb36"
      },
      "execution_count": 126,
      "outputs": [
        {
          "output_type": "execute_result",
          "data": {
            "text/plain": [
              "10"
            ]
          },
          "metadata": {},
          "execution_count": 126
        }
      ]
    },
    {
      "cell_type": "code",
      "source": [
        "torch.manual_seed(42)\n",
        "\n",
        "model = DogBreed(input_shape=3, hidden_units=32, output_shape=len(train_data.classes)).to(device)\n",
        "\n",
        "print(model)"
      ],
      "metadata": {
        "colab": {
          "base_uri": "https://localhost:8080/"
        },
        "id": "RgBMOwGMVZbZ",
        "outputId": "89f02967-6240-47f6-ccb4-42af130b2f89"
      },
      "execution_count": 127,
      "outputs": [
        {
          "output_type": "stream",
          "name": "stdout",
          "text": [
            "DogBreed(\n",
            "  (conv_block_1): Sequential(\n",
            "    (0): Conv2d(3, 32, kernel_size=(3, 3), stride=(1, 1), padding=(1, 1))\n",
            "    (1): ReLU()\n",
            "    (2): Conv2d(32, 32, kernel_size=(3, 3), stride=(1, 1), padding=(1, 1))\n",
            "    (3): ReLU()\n",
            "    (4): MaxPool2d(kernel_size=2, stride=2, padding=0, dilation=1, ceil_mode=False)\n",
            "  )\n",
            "  (conv_block_2): Sequential(\n",
            "    (0): Conv2d(32, 32, kernel_size=(3, 3), stride=(1, 1), padding=(1, 1))\n",
            "    (1): ReLU()\n",
            "    (2): Conv2d(32, 32, kernel_size=(3, 3), stride=(1, 1), padding=(1, 1))\n",
            "    (3): ReLU()\n",
            "    (4): MaxPool2d(kernel_size=2, stride=2, padding=0, dilation=1, ceil_mode=False)\n",
            "  )\n",
            "  (classifier): Sequential(\n",
            "    (0): Flatten(start_dim=1, end_dim=-1)\n",
            "    (1): Linear(in_features=8192, out_features=10, bias=True)\n",
            "  )\n",
            ")\n"
          ]
        }
      ]
    },
    {
      "cell_type": "code",
      "source": [
        "# Install torchinfo if it's not available, import it if it is\n",
        "try:\n",
        "    import torchinfo\n",
        "except:\n",
        "    !pip install torchinfo\n",
        "    import torchinfo\n",
        "\n",
        "from torchinfo import summary\n",
        "summary(model, input_size=[32, 3, 64, 64]) # do a test pass through of an example input size"
      ],
      "metadata": {
        "colab": {
          "base_uri": "https://localhost:8080/"
        },
        "id": "J9-NJViyVySg",
        "outputId": "3c500115-59e2-40c9-ca8d-58c55e86ea8f"
      },
      "execution_count": 128,
      "outputs": [
        {
          "output_type": "execute_result",
          "data": {
            "text/plain": [
              "==========================================================================================\n",
              "Layer (type:depth-idx)                   Output Shape              Param #\n",
              "==========================================================================================\n",
              "DogBreed                                 [32, 10]                  --\n",
              "├─Sequential: 1-1                        [32, 32, 32, 32]          --\n",
              "│    └─Conv2d: 2-1                       [32, 32, 64, 64]          896\n",
              "│    └─ReLU: 2-2                         [32, 32, 64, 64]          --\n",
              "│    └─Conv2d: 2-3                       [32, 32, 64, 64]          9,248\n",
              "│    └─ReLU: 2-4                         [32, 32, 64, 64]          --\n",
              "│    └─MaxPool2d: 2-5                    [32, 32, 32, 32]          --\n",
              "├─Sequential: 1-2                        [32, 32, 16, 16]          --\n",
              "│    └─Conv2d: 2-6                       [32, 32, 32, 32]          9,248\n",
              "│    └─ReLU: 2-7                         [32, 32, 32, 32]          --\n",
              "│    └─Conv2d: 2-8                       [32, 32, 32, 32]          9,248\n",
              "│    └─ReLU: 2-9                         [32, 32, 32, 32]          --\n",
              "│    └─MaxPool2d: 2-10                   [32, 32, 16, 16]          --\n",
              "├─Sequential: 1-3                        [32, 10]                  --\n",
              "│    └─Flatten: 2-11                     [32, 8192]                --\n",
              "│    └─Linear: 2-12                      [32, 10]                  81,930\n",
              "==========================================================================================\n",
              "Total params: 110,570\n",
              "Trainable params: 110,570\n",
              "Non-trainable params: 0\n",
              "Total mult-adds (G): 1.94\n",
              "==========================================================================================\n",
              "Input size (MB): 1.57\n",
              "Forward/backward pass size (MB): 83.89\n",
              "Params size (MB): 0.44\n",
              "Estimated Total Size (MB): 85.90\n",
              "=========================================================================================="
            ]
          },
          "metadata": {},
          "execution_count": 128
        }
      ]
    },
    {
      "cell_type": "code",
      "source": [
        "# import requests\n",
        "# from pathlib import Path\n",
        "\n",
        "# # Download helper functions from Learn PyTorch repo (if not already downloaded)\n",
        "# if Path(\"helper_functions.py\").is_file():\n",
        "#   print(\"helper_functions.py already exists, skipping download\")\n",
        "# else:\n",
        "#   print(\"Downloading helper_functions.py\")\n",
        "#   # Note: you need the \"raw\" GitHub URL for this to work\n",
        "#   request = requests.get(\"https://raw.githubusercontent.com/mrdbourke/pytorch-deep-learning/main/helper_functions.py\")\n",
        "#   with open(\"helper_functions.py\", \"wb\") as f:\n",
        "#     f.write(request.content)"
      ],
      "metadata": {
        "id": "pbw-V8RZXfUy"
      },
      "execution_count": 129,
      "outputs": []
    },
    {
      "cell_type": "code",
      "source": [
        "# # Setup loss function/eval metrics/optimizer\n",
        "\n",
        "# from helper_functions import accuracy_fn\n",
        "\n",
        "# loss_fn = nn.CrossEntropyLoss()\n",
        "# optimizer = torch.optim.SGD(params=model.parameters(),\n",
        "#                             lr=0.1)"
      ],
      "metadata": {
        "id": "yBPFYQBbXjB5"
      },
      "execution_count": 130,
      "outputs": []
    },
    {
      "cell_type": "code",
      "source": [
        "def train_step(model: torch.nn.Module,\n",
        "               dataloader: torch.utils.data.DataLoader,\n",
        "               loss_fn: torch.nn.Module,\n",
        "               optimizer: torch.optim.Optimizer):\n",
        "    # Put model in train mode\n",
        "    model.train()\n",
        "\n",
        "    # Setup train loss and train accuracy values\n",
        "    train_loss, train_acc = 0, 0\n",
        "\n",
        "    # Loop through data loader data batches\n",
        "    for batch, (X, y) in enumerate(dataloader):\n",
        "        # Send data to target device\n",
        "        X, y = X.to(device), y.to(device)\n",
        "\n",
        "        # 1. Forward pass\n",
        "        y_pred = model(X)\n",
        "\n",
        "        # 2. Calculate  and accumulate loss\n",
        "        loss = loss_fn(y_pred, y)\n",
        "        train_loss += loss.item()\n",
        "\n",
        "        # 3. Optimizer zero grad\n",
        "        optimizer.zero_grad()\n",
        "\n",
        "        # 4. Loss backward\n",
        "        loss.backward()\n",
        "\n",
        "        # 5. Optimizer step\n",
        "        optimizer.step()\n",
        "\n",
        "        # Calculate and accumulate accuracy metric across all batches\n",
        "        y_pred_class = torch.argmax(torch.softmax(y_pred, dim=1), dim=1)\n",
        "        train_acc += (y_pred_class == y).sum().item()/len(y_pred)\n",
        "\n",
        "    # Adjust metrics to get average loss and accuracy per batch\n",
        "    train_loss = train_loss / len(dataloader)\n",
        "    train_acc = train_acc / len(dataloader)\n",
        "    return train_loss, train_acc"
      ],
      "metadata": {
        "id": "_BJJn2xrj0r9"
      },
      "execution_count": 131,
      "outputs": []
    },
    {
      "cell_type": "code",
      "source": [
        "def test_step(model: torch.nn.Module,\n",
        "              dataloader: torch.utils.data.DataLoader,\n",
        "              loss_fn: torch.nn.Module):\n",
        "    # Put model in eval mode\n",
        "    model.eval()\n",
        "\n",
        "    # Setup test loss and test accuracy values\n",
        "    test_loss, test_acc = 0, 0\n",
        "\n",
        "    # Turn on inference context manager\n",
        "    with torch.inference_mode():\n",
        "        # Loop through DataLoader batches\n",
        "        for batch, (X, y) in enumerate(dataloader):\n",
        "            # Send data to target device\n",
        "            X, y = X.to(device), y.to(device)\n",
        "\n",
        "            # 1. Forward pass\n",
        "            test_pred_logits = model(X)\n",
        "\n",
        "            # 2. Calculate and accumulate loss\n",
        "            loss = loss_fn(test_pred_logits, y)\n",
        "            test_loss += loss.item()\n",
        "\n",
        "            # Calculate and accumulate accuracy\n",
        "            test_pred_labels = test_pred_logits.argmax(dim=1)\n",
        "            test_acc += ((test_pred_labels == y).sum().item()/len(test_pred_labels))\n",
        "\n",
        "    # Adjust metrics to get average loss and accuracy per batch\n",
        "    test_loss = test_loss / len(dataloader)\n",
        "    test_acc = test_acc / len(dataloader)\n",
        "    return test_loss, test_acc"
      ],
      "metadata": {
        "id": "OIavlkeuj7ZG"
      },
      "execution_count": 132,
      "outputs": []
    },
    {
      "cell_type": "code",
      "source": [
        "from tqdm.auto import tqdm\n",
        "\n",
        "# 1. Take in various parameters required for training and test steps\n",
        "def train(model: torch.nn.Module,\n",
        "          train_dataloader: torch.utils.data.DataLoader,\n",
        "          test_dataloader: torch.utils.data.DataLoader,\n",
        "          optimizer: torch.optim.Optimizer,\n",
        "          loss_fn: torch.nn.Module = nn.CrossEntropyLoss(),\n",
        "          epochs: int = 5):\n",
        "\n",
        "    # 2. Create empty results dictionary\n",
        "    results = {\"train_loss\": [],\n",
        "        \"train_acc\": [],\n",
        "        \"test_loss\": [],\n",
        "        \"test_acc\": []\n",
        "    }\n",
        "\n",
        "    # 3. Loop through training and testing steps for a number of epochs\n",
        "    for epoch in tqdm(range(epochs)):\n",
        "        train_loss, train_acc = train_step(model=model,\n",
        "                                           dataloader=train_dataloader,\n",
        "                                           loss_fn=loss_fn,\n",
        "                                           optimizer=optimizer)\n",
        "        test_loss, test_acc = test_step(model=model,\n",
        "            dataloader=test_dataloader,\n",
        "            loss_fn=loss_fn)\n",
        "\n",
        "        # 4. Print out what's happening\n",
        "        print(\n",
        "            f\"Epoch: {epoch+1} | \"\n",
        "            f\"train_loss: {train_loss:.4f} | \"\n",
        "            f\"train_acc: {train_acc:.4f} | \"\n",
        "            f\"test_loss: {test_loss:.4f} | \"\n",
        "            f\"test_acc: {test_acc:.4f}\"\n",
        "        )\n",
        "\n",
        "        # 5. Update results dictionary\n",
        "        results[\"train_loss\"].append(train_loss)\n",
        "        results[\"train_acc\"].append(train_acc)\n",
        "        results[\"test_loss\"].append(test_loss)\n",
        "        results[\"test_acc\"].append(test_acc)\n",
        "\n",
        "    # 6. Return the filled results at the end of the epochs\n",
        "    return results"
      ],
      "metadata": {
        "id": "ENtBBvU2j-6m"
      },
      "execution_count": 133,
      "outputs": []
    },
    {
      "cell_type": "code",
      "source": [
        "# Set random seeds\n",
        "torch.manual_seed(42)\n",
        "torch.cuda.manual_seed(42)\n",
        "\n",
        "# Set number of epochs\n",
        "NUM_EPOCHS = 10\n",
        "\n",
        "\n",
        "# Setup loss function and optimizer\n",
        "loss_fn = nn.CrossEntropyLoss()\n",
        "optimizer = torch.optim.Adam(params=model.parameters(), lr=0.001)\n",
        "\n",
        "# Start the timer\n",
        "from timeit import default_timer as timer\n",
        "start_time = timer()\n",
        "\n",
        "# Train model_0\n",
        "model_results = train(model=model,\n",
        "                        train_dataloader=train_dataloader,\n",
        "                        test_dataloader=test_dataloader,\n",
        "                        optimizer=optimizer,\n",
        "                        loss_fn=loss_fn,\n",
        "                        epochs=NUM_EPOCHS)\n",
        "\n",
        "# End the timer and print out how long it took\n",
        "end_time = timer()\n",
        "print(f\"Total training time: {end_time-start_time:.3f} seconds\")"
      ],
      "metadata": {
        "colab": {
          "base_uri": "https://localhost:8080/",
          "height": 240,
          "referenced_widgets": [
            "a932ba739b5745e2a4b2e5e871d114ab",
            "0bafc1d8ebb84980ae084df8f191ccc5",
            "30e190d8018c4d3d860cc901499c6680",
            "c6f761767b404b70b97125f92217f902",
            "baaa0893359b42528c47d222d8efabb1",
            "5df502a2a71a40dd88b0fc89f2014db3",
            "3f1c36926a50440c817e6d183ec92260",
            "cc26ceeba66b4189b1c63daf0b003111",
            "db021d31870647089038aed540207905",
            "d0442ed7fbd74b9ab318e1940545e8a7",
            "5963836199714c37b7aeeac7204b1bb7"
          ]
        },
        "id": "nXvX6LlrkEUh",
        "outputId": "57a34f8d-7a61-464d-de36-4d51efcfe880"
      },
      "execution_count": 134,
      "outputs": [
        {
          "output_type": "display_data",
          "data": {
            "text/plain": [
              "  0%|          | 0/10 [00:00<?, ?it/s]"
            ],
            "application/vnd.jupyter.widget-view+json": {
              "version_major": 2,
              "version_minor": 0,
              "model_id": "a932ba739b5745e2a4b2e5e871d114ab"
            }
          },
          "metadata": {}
        },
        {
          "output_type": "stream",
          "name": "stdout",
          "text": [
            "Epoch: 1 | train_loss: 2.3066 | train_acc: 0.1080 | test_loss: 2.2755 | test_acc: 0.1625\n",
            "Epoch: 2 | train_loss: 2.1537 | train_acc: 0.2481 | test_loss: 2.0596 | test_acc: 0.2406\n",
            "Epoch: 3 | train_loss: 1.9474 | train_acc: 0.3168 | test_loss: 1.7620 | test_acc: 0.3688\n",
            "Epoch: 4 | train_loss: 1.6157 | train_acc: 0.4186 | test_loss: 1.5842 | test_acc: 0.4313\n",
            "Epoch: 5 | train_loss: 1.3355 | train_acc: 0.5455 | test_loss: 1.3483 | test_acc: 0.5531\n",
            "Epoch: 6 | train_loss: 0.8942 | train_acc: 0.7022 | test_loss: 0.9503 | test_acc: 0.6937\n",
            "Epoch: 7 | train_loss: 0.5608 | train_acc: 0.8092 | test_loss: 0.6764 | test_acc: 0.7875\n",
            "Epoch: 8 | train_loss: 0.4874 | train_acc: 0.8371 | test_loss: 0.3891 | test_acc: 0.9125\n",
            "Epoch: 9 | train_loss: 0.2216 | train_acc: 0.9403 | test_loss: 0.3117 | test_acc: 0.9344\n",
            "Epoch: 10 | train_loss: 0.1102 | train_acc: 0.9688 | test_loss: 0.2954 | test_acc: 0.9281\n",
            "Total training time: 115.950 seconds\n"
          ]
        }
      ]
    },
    {
      "cell_type": "code",
      "source": [],
      "metadata": {
        "id": "yjCv_ilsnPTu"
      },
      "execution_count": null,
      "outputs": []
    }
  ]
}